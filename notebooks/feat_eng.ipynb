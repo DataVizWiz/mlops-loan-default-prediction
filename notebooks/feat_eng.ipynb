{
 "cells": [
  {
   "cell_type": "markdown",
   "id": "3d968d93",
   "metadata": {},
   "source": [
    "## Logistic Regression Feature Engineering"
   ]
  },
  {
   "cell_type": "code",
   "execution_count": 37,
   "id": "9f9daae9",
   "metadata": {},
   "outputs": [],
   "source": [
    "import polars as pl\n",
    "\n",
    "from sklearn.model_selection import train_test_split\n",
    "from sklearn.pipeline import Pipeline\n",
    "from sklearn.compose import ColumnTransformer\n",
    "from sklearn.preprocessing import StandardScaler, MinMaxScaler, OneHotEncoder\n",
    "from sklearn.linear_model import LogisticRegression\n",
    "from sklearn.impute import SimpleImputer\n",
    "from imblearn.over_sampling import SMOTE\n",
    "from imblearn.pipeline import Pipeline as ImbPipeline"
   ]
  },
  {
   "cell_type": "code",
   "execution_count": 38,
   "id": "29e20646",
   "metadata": {},
   "outputs": [],
   "source": [
    "df = pl.read_csv(\"../data/loans.csv\")"
   ]
  },
  {
   "cell_type": "code",
   "execution_count": 39,
   "id": "64d6dffd",
   "metadata": {},
   "outputs": [
    {
     "data": {
      "text/html": [
       "<div><style>\n",
       ".dataframe > thead > tr,\n",
       ".dataframe > tbody > tr {\n",
       "  text-align: right;\n",
       "  white-space: pre-wrap;\n",
       "}\n",
       "</style>\n",
       "<small>shape: (5, 18)</small><table border=\"1\" class=\"dataframe\"><thead><tr><th>LoanID</th><th>Age</th><th>Income</th><th>LoanAmount</th><th>CreditScore</th><th>MonthsEmployed</th><th>NumCreditLines</th><th>InterestRate</th><th>LoanTerm</th><th>DTIRatio</th><th>Education</th><th>EmploymentType</th><th>MaritalStatus</th><th>HasMortgage</th><th>HasDependents</th><th>LoanPurpose</th><th>HasCoSigner</th><th>Default</th></tr><tr><td>str</td><td>i64</td><td>i64</td><td>i64</td><td>i64</td><td>i64</td><td>i64</td><td>f64</td><td>i64</td><td>f64</td><td>str</td><td>str</td><td>str</td><td>str</td><td>str</td><td>str</td><td>str</td><td>i64</td></tr></thead><tbody><tr><td>&quot;I38PQUQS96&quot;</td><td>56</td><td>85994</td><td>50587</td><td>520</td><td>80</td><td>4</td><td>15.23</td><td>36</td><td>0.44</td><td>&quot;Bachelor&#x27;s&quot;</td><td>&quot;Full-time&quot;</td><td>&quot;Divorced&quot;</td><td>&quot;Yes&quot;</td><td>&quot;Yes&quot;</td><td>&quot;Other&quot;</td><td>&quot;Yes&quot;</td><td>0</td></tr><tr><td>&quot;HPSK72WA7R&quot;</td><td>69</td><td>50432</td><td>124440</td><td>458</td><td>15</td><td>1</td><td>4.81</td><td>60</td><td>0.68</td><td>&quot;Master&#x27;s&quot;</td><td>&quot;Full-time&quot;</td><td>&quot;Married&quot;</td><td>&quot;No&quot;</td><td>&quot;No&quot;</td><td>&quot;Other&quot;</td><td>&quot;Yes&quot;</td><td>0</td></tr><tr><td>&quot;C1OZ6DPJ8Y&quot;</td><td>46</td><td>84208</td><td>129188</td><td>451</td><td>26</td><td>3</td><td>21.17</td><td>24</td><td>0.31</td><td>&quot;Master&#x27;s&quot;</td><td>&quot;Unemployed&quot;</td><td>&quot;Divorced&quot;</td><td>&quot;Yes&quot;</td><td>&quot;Yes&quot;</td><td>&quot;Auto&quot;</td><td>&quot;No&quot;</td><td>1</td></tr><tr><td>&quot;V2KKSFM3UN&quot;</td><td>32</td><td>31713</td><td>44799</td><td>743</td><td>0</td><td>3</td><td>7.07</td><td>24</td><td>0.23</td><td>&quot;High School&quot;</td><td>&quot;Full-time&quot;</td><td>&quot;Married&quot;</td><td>&quot;No&quot;</td><td>&quot;No&quot;</td><td>&quot;Business&quot;</td><td>&quot;No&quot;</td><td>0</td></tr><tr><td>&quot;EY08JDHTZP&quot;</td><td>60</td><td>20437</td><td>9139</td><td>633</td><td>8</td><td>4</td><td>6.51</td><td>48</td><td>0.73</td><td>&quot;Bachelor&#x27;s&quot;</td><td>&quot;Unemployed&quot;</td><td>&quot;Divorced&quot;</td><td>&quot;No&quot;</td><td>&quot;Yes&quot;</td><td>&quot;Auto&quot;</td><td>&quot;No&quot;</td><td>0</td></tr></tbody></table></div>"
      ],
      "text/plain": [
       "shape: (5, 18)\n",
       "┌────────────┬─────┬────────┬────────────┬───┬───────────────┬─────────────┬─────────────┬─────────┐\n",
       "│ LoanID     ┆ Age ┆ Income ┆ LoanAmount ┆ … ┆ HasDependents ┆ LoanPurpose ┆ HasCoSigner ┆ Default │\n",
       "│ ---        ┆ --- ┆ ---    ┆ ---        ┆   ┆ ---           ┆ ---         ┆ ---         ┆ ---     │\n",
       "│ str        ┆ i64 ┆ i64    ┆ i64        ┆   ┆ str           ┆ str         ┆ str         ┆ i64     │\n",
       "╞════════════╪═════╪════════╪════════════╪═══╪═══════════════╪═════════════╪═════════════╪═════════╡\n",
       "│ I38PQUQS96 ┆ 56  ┆ 85994  ┆ 50587      ┆ … ┆ Yes           ┆ Other       ┆ Yes         ┆ 0       │\n",
       "│ HPSK72WA7R ┆ 69  ┆ 50432  ┆ 124440     ┆ … ┆ No            ┆ Other       ┆ Yes         ┆ 0       │\n",
       "│ C1OZ6DPJ8Y ┆ 46  ┆ 84208  ┆ 129188     ┆ … ┆ Yes           ┆ Auto        ┆ No          ┆ 1       │\n",
       "│ V2KKSFM3UN ┆ 32  ┆ 31713  ┆ 44799      ┆ … ┆ No            ┆ Business    ┆ No          ┆ 0       │\n",
       "│ EY08JDHTZP ┆ 60  ┆ 20437  ┆ 9139       ┆ … ┆ Yes           ┆ Auto        ┆ No          ┆ 0       │\n",
       "└────────────┴─────┴────────┴────────────┴───┴───────────────┴─────────────┴─────────────┴─────────┘"
      ]
     },
     "execution_count": 39,
     "metadata": {},
     "output_type": "execute_result"
    }
   ],
   "source": [
    "df.head()"
   ]
  },
  {
   "cell_type": "code",
   "execution_count": 40,
   "id": "c7fe414d",
   "metadata": {},
   "outputs": [
    {
     "data": {
      "text/html": [
       "<div><style>\n",
       ".dataframe > thead > tr,\n",
       ".dataframe > tbody > tr {\n",
       "  text-align: right;\n",
       "  white-space: pre-wrap;\n",
       "}\n",
       "</style>\n",
       "<small>shape: (2, 2)</small><table border=\"1\" class=\"dataframe\"><thead><tr><th>Default</th><th>count</th></tr><tr><td>i64</td><td>u32</td></tr></thead><tbody><tr><td>0</td><td>225694</td></tr><tr><td>1</td><td>29653</td></tr></tbody></table></div>"
      ],
      "text/plain": [
       "shape: (2, 2)\n",
       "┌─────────┬────────┐\n",
       "│ Default ┆ count  │\n",
       "│ ---     ┆ ---    │\n",
       "│ i64     ┆ u32    │\n",
       "╞═════════╪════════╡\n",
       "│ 0       ┆ 225694 │\n",
       "│ 1       ┆ 29653  │\n",
       "└─────────┴────────┘"
      ]
     },
     "execution_count": 40,
     "metadata": {},
     "output_type": "execute_result"
    }
   ],
   "source": [
    "df[\"Default\"].value_counts()"
   ]
  },
  {
   "cell_type": "code",
   "execution_count": 41,
   "id": "8f5e5487",
   "metadata": {},
   "outputs": [
    {
     "data": {
      "text/plain": [
       "Schema([('LoanID', String),\n",
       "        ('Age', Int64),\n",
       "        ('Income', Int64),\n",
       "        ('LoanAmount', Int64),\n",
       "        ('CreditScore', Int64),\n",
       "        ('MonthsEmployed', Int64),\n",
       "        ('NumCreditLines', Int64),\n",
       "        ('InterestRate', Float64),\n",
       "        ('LoanTerm', Int64),\n",
       "        ('DTIRatio', Float64),\n",
       "        ('Education', String),\n",
       "        ('EmploymentType', String),\n",
       "        ('MaritalStatus', String),\n",
       "        ('HasMortgage', String),\n",
       "        ('HasDependents', String),\n",
       "        ('LoanPurpose', String),\n",
       "        ('HasCoSigner', String),\n",
       "        ('Default', Int64)])"
      ]
     },
     "execution_count": 41,
     "metadata": {},
     "output_type": "execute_result"
    }
   ],
   "source": [
    "df.schema"
   ]
  },
  {
   "cell_type": "code",
   "execution_count": 42,
   "id": "02d8ed2b",
   "metadata": {},
   "outputs": [
    {
     "data": {
      "text/html": [
       "<div><style>\n",
       ".dataframe > thead > tr,\n",
       ".dataframe > tbody > tr {\n",
       "  text-align: right;\n",
       "  white-space: pre-wrap;\n",
       "}\n",
       "</style>\n",
       "<small>shape: (255_347,)</small><table border=\"1\" class=\"dataframe\"><thead><tr><th>LoanID</th></tr><tr><td>str</td></tr></thead><tbody><tr><td>&quot;I38PQUQS96&quot;</td></tr><tr><td>&quot;HPSK72WA7R&quot;</td></tr><tr><td>&quot;C1OZ6DPJ8Y&quot;</td></tr><tr><td>&quot;V2KKSFM3UN&quot;</td></tr><tr><td>&quot;EY08JDHTZP&quot;</td></tr><tr><td>&hellip;</td></tr><tr><td>&quot;8C6S86ESGC&quot;</td></tr><tr><td>&quot;98R4KDHNND&quot;</td></tr><tr><td>&quot;XQK1UUUNGP&quot;</td></tr><tr><td>&quot;JAO28CPL4H&quot;</td></tr><tr><td>&quot;ZTH91CGL0B&quot;</td></tr></tbody></table></div>"
      ],
      "text/plain": [
       "shape: (255_347,)\n",
       "Series: 'LoanID' [str]\n",
       "[\n",
       "\t\"I38PQUQS96\"\n",
       "\t\"HPSK72WA7R\"\n",
       "\t\"C1OZ6DPJ8Y\"\n",
       "\t\"V2KKSFM3UN\"\n",
       "\t\"EY08JDHTZP\"\n",
       "\t…\n",
       "\t\"8C6S86ESGC\"\n",
       "\t\"98R4KDHNND\"\n",
       "\t\"XQK1UUUNGP\"\n",
       "\t\"JAO28CPL4H\"\n",
       "\t\"ZTH91CGL0B\"\n",
       "]"
      ]
     },
     "execution_count": 42,
     "metadata": {},
     "output_type": "execute_result"
    }
   ],
   "source": [
    "df.drop_in_place(\"LoanID\")"
   ]
  },
  {
   "cell_type": "markdown",
   "id": "af9b62bb",
   "metadata": {},
   "source": [
    "### Numerical features"
   ]
  },
  {
   "cell_type": "markdown",
   "id": "92905fed",
   "metadata": {},
   "source": [
    "###### Normalize DTIRatio as the value range is already between 0 and 1.\n",
    "###### Classify LoanTerm as a categorical feature and one-hot encode it (as it is a discrete variable)\n",
    "###### All other numerical features require standard scaling"
   ]
  },
  {
   "cell_type": "code",
   "execution_count": 43,
   "id": "5322cf8e",
   "metadata": {},
   "outputs": [],
   "source": [
    "num_feats = [\n",
    "    \"Age\",\n",
    "    \"Income\",\n",
    "    \"LoanAmount\",\n",
    "    \"CreditScore\",\n",
    "    \"MonthsEmployed\",\n",
    "    \"NumCreditLines\",\n",
    "    \"InterestRate\",\n",
    "    \"DTIRatio\",\n",
    "]"
   ]
  },
  {
   "cell_type": "markdown",
   "id": "7142055a",
   "metadata": {},
   "source": [
    "#### Standard scaling"
   ]
  },
  {
   "cell_type": "code",
   "execution_count": 44,
   "id": "cf3a3577",
   "metadata": {},
   "outputs": [],
   "source": [
    "scale_feats = [x for x in num_feats if x != \"DTIRatio\"]\n",
    "\n",
    "df_num = df[scale_feats]\n",
    "num_arr = df_num.to_numpy()\n",
    "\n",
    "scaler = StandardScaler()\n",
    "scaled_arr = scaler.fit_transform(num_arr)\n",
    "df_scaled = pl.DataFrame(scaled_arr, scale_feats).cast(pl.Float32)"
   ]
  },
  {
   "cell_type": "markdown",
   "id": "c866364a",
   "metadata": {},
   "source": [
    "#### Normalization"
   ]
  },
  {
   "cell_type": "code",
   "execution_count": 45,
   "id": "a34f9b4b",
   "metadata": {},
   "outputs": [],
   "source": [
    "norm_feats = [x for x in num_feats if x == \"DTIRatio\"]\n",
    "\n",
    "df_dtir = df[norm_feats]\n",
    "dtir_arr = df_dtir.to_numpy()\n",
    "\n",
    "normalizer = MinMaxScaler(feature_range=(0, 1))\n",
    "normed_arr = scaler.fit_transform(dtir_arr)\n",
    "df_normed = pl.DataFrame(normed_arr, norm_feats).cast(pl.Float32)"
   ]
  },
  {
   "cell_type": "markdown",
   "id": "ee69d82c",
   "metadata": {},
   "source": [
    "### Categorical features"
   ]
  },
  {
   "cell_type": "code",
   "execution_count": 46,
   "id": "8100f452",
   "metadata": {},
   "outputs": [],
   "source": [
    "cat_feats = [\"Education\", \"EmploymentType\", \"MaritalStatus\", \"LoanPurpose\"]\n",
    "\n",
    "encoder = OneHotEncoder(handle_unknown=\"ignore\", sparse_output=False, dtype=int)\n",
    "encoder.set_output(transform=\"polars\")\n",
    "df_cat_enc = encoder.fit_transform(df[cat_feats]).cast(pl.Int8)"
   ]
  },
  {
   "cell_type": "markdown",
   "id": "4ce3ff0c",
   "metadata": {},
   "source": [
    "### Binary features"
   ]
  },
  {
   "cell_type": "code",
   "execution_count": 47,
   "id": "3adefa1a",
   "metadata": {},
   "outputs": [],
   "source": [
    "bin_feats = [\"HasMortgage\", \"HasDependents\", \"HasCoSigner\"]\n",
    "bin_map = {\"Yes\": 1, \"No\": 0}\n",
    "\n",
    "df_bin_enc = df[bin_feats]\n",
    "\n",
    "for feat in bin_feats:\n",
    "    df_bin_enc = df_bin_enc.with_columns(\n",
    "        pl.col(feat).replace(bin_map).alias(feat).cast(pl.Int8)\n",
    "    )"
   ]
  },
  {
   "cell_type": "code",
   "execution_count": 54,
   "id": "3f7b1c4d",
   "metadata": {},
   "outputs": [],
   "source": [
    "df_x = pl.concat([df_scaled, df_normed, df_cat_enc, df_bin_enc], how=\"horizontal\")\n",
    "df_y = df[\"Default\"].cast(pl.Int8)"
   ]
  },
  {
   "cell_type": "markdown",
   "id": "9bd0fa8b",
   "metadata": {},
   "source": [
    "### Model"
   ]
  },
  {
   "cell_type": "code",
   "execution_count": 50,
   "id": "1cad1c78",
   "metadata": {},
   "outputs": [
    {
     "ename": "NameError",
     "evalue": "name 'numerical_transformer' is not defined",
     "output_type": "error",
     "traceback": [
      "\u001b[31m---------------------------------------------------------------------------\u001b[39m",
      "\u001b[31mNameError\u001b[39m                                 Traceback (most recent call last)",
      "\u001b[36mCell\u001b[39m\u001b[36m \u001b[39m\u001b[32mIn[50]\u001b[39m\u001b[32m, line 3\u001b[39m\n\u001b[32m      1\u001b[39m preprocessor = ColumnTransformer(\n\u001b[32m      2\u001b[39m     transformers=[\n\u001b[32m----> \u001b[39m\u001b[32m3\u001b[39m         (\u001b[33m\"\u001b[39m\u001b[33mnum\u001b[39m\u001b[33m\"\u001b[39m, \u001b[43mnumerical_transformer\u001b[49m, numerical_feat),\n\u001b[32m      4\u001b[39m         (\u001b[33m\"\u001b[39m\u001b[33mdtir\u001b[39m\u001b[33m\"\u001b[39m, dtir_transformer, dtir_feat),\n\u001b[32m      5\u001b[39m         (\u001b[33m\"\u001b[39m\u001b[33mcat\u001b[39m\u001b[33m\"\u001b[39m, categorical_transformer, categorical_feat),\n\u001b[32m      6\u001b[39m     ],\n\u001b[32m      7\u001b[39m     remainder=\u001b[33m\"\u001b[39m\u001b[33mpassthrough\u001b[39m\u001b[33m\"\u001b[39m,\n\u001b[32m      8\u001b[39m )\n",
      "\u001b[31mNameError\u001b[39m: name 'numerical_transformer' is not defined"
     ]
    }
   ],
   "source": [
    "preprocessor = ColumnTransformer(\n",
    "    transformers=[\n",
    "        (\"num\", numerical_transformer, numerical_feat),\n",
    "        (\"dtir\", dtir_transformer, dtir_feat),\n",
    "        (\"cat\", categorical_transformer, categorical_feat),\n",
    "    ],\n",
    "    remainder=\"passthrough\",\n",
    ")"
   ]
  },
  {
   "cell_type": "code",
   "execution_count": null,
   "id": "0d496ab0",
   "metadata": {},
   "outputs": [],
   "source": [
    "pipeline = ImbPipeline(\n",
    "    steps=[\n",
    "        (\"preprocessor\", preprocessor),\n",
    "        (\"smote\", SMOTE(random_state=42)),\n",
    "        (\"classifier\", LogisticRegression()),\n",
    "    ]\n",
    ")"
   ]
  },
  {
   "cell_type": "code",
   "execution_count": null,
   "id": "dac04393",
   "metadata": {},
   "outputs": [],
   "source": [
    "X = df_loans.drop(columns=\"Default\")\n",
    "y = df_loans[\"Default\"]"
   ]
  },
  {
   "cell_type": "code",
   "execution_count": null,
   "id": "b57b1156",
   "metadata": {},
   "outputs": [],
   "source": [
    "X.head()"
   ]
  },
  {
   "cell_type": "code",
   "execution_count": null,
   "id": "4a25998e",
   "metadata": {},
   "outputs": [],
   "source": [
    "X_train, X_test, y_train, y_test = train_test_split(\n",
    "    X, y, test_size=0.2, random_state=42\n",
    ")\n",
    "pipeline.fit(X_train, y_train)"
   ]
  },
  {
   "cell_type": "code",
   "execution_count": null,
   "id": "7761bf13",
   "metadata": {},
   "outputs": [],
   "source": []
  }
 ],
 "metadata": {
  "kernelspec": {
   "display_name": ".venv",
   "language": "python",
   "name": "python3"
  },
  "language_info": {
   "codemirror_mode": {
    "name": "ipython",
    "version": 3
   },
   "file_extension": ".py",
   "mimetype": "text/x-python",
   "name": "python",
   "nbconvert_exporter": "python",
   "pygments_lexer": "ipython3",
   "version": "3.13.2"
  }
 },
 "nbformat": 4,
 "nbformat_minor": 5
}
