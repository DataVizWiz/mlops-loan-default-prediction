{
 "cells": [
  {
   "cell_type": "markdown",
   "id": "3d968d93",
   "metadata": {},
   "source": [
    "## Logistic Regression Feature Engineering"
   ]
  },
  {
   "cell_type": "code",
   "execution_count": 123,
   "id": "9f9daae9",
   "metadata": {},
   "outputs": [],
   "source": [
    "import os\n",
    "import polars as pl\n",
    "\n",
    "from sklearn.model_selection import train_test_split\n",
    "from sklearn.pipeline import Pipeline\n",
    "from sklearn.compose import ColumnTransformer\n",
    "from sklearn.preprocessing import StandardScaler, MinMaxScaler, OneHotEncoder\n",
    "from sklearn.linear_model import LogisticRegression\n",
    "from sklearn.impute import SimpleImputer\n",
    "from imblearn.over_sampling import SMOTE\n",
    "from imblearn.pipeline import Pipeline as ImbPipeline"
   ]
  },
  {
   "cell_type": "code",
   "execution_count": 124,
   "id": "29e20646",
   "metadata": {},
   "outputs": [],
   "source": [
    "df = pl.read_csv(\"../data/raw/loans.csv\")"
   ]
  },
  {
   "cell_type": "code",
   "execution_count": 125,
   "id": "64d6dffd",
   "metadata": {},
   "outputs": [
    {
     "data": {
      "text/html": [
       "<div><style>\n",
       ".dataframe > thead > tr,\n",
       ".dataframe > tbody > tr {\n",
       "  text-align: right;\n",
       "  white-space: pre-wrap;\n",
       "}\n",
       "</style>\n",
       "<small>shape: (5, 18)</small><table border=\"1\" class=\"dataframe\"><thead><tr><th>LoanID</th><th>Age</th><th>Income</th><th>LoanAmount</th><th>CreditScore</th><th>MonthsEmployed</th><th>NumCreditLines</th><th>InterestRate</th><th>LoanTerm</th><th>DTIRatio</th><th>Education</th><th>EmploymentType</th><th>MaritalStatus</th><th>HasMortgage</th><th>HasDependents</th><th>LoanPurpose</th><th>HasCoSigner</th><th>Default</th></tr><tr><td>str</td><td>i64</td><td>i64</td><td>i64</td><td>i64</td><td>i64</td><td>i64</td><td>f64</td><td>i64</td><td>f64</td><td>str</td><td>str</td><td>str</td><td>str</td><td>str</td><td>str</td><td>str</td><td>i64</td></tr></thead><tbody><tr><td>&quot;I38PQUQS96&quot;</td><td>56</td><td>85994</td><td>50587</td><td>520</td><td>80</td><td>4</td><td>15.23</td><td>36</td><td>0.44</td><td>&quot;Bachelor&#x27;s&quot;</td><td>&quot;Full-time&quot;</td><td>&quot;Divorced&quot;</td><td>&quot;Yes&quot;</td><td>&quot;Yes&quot;</td><td>&quot;Other&quot;</td><td>&quot;Yes&quot;</td><td>0</td></tr><tr><td>&quot;HPSK72WA7R&quot;</td><td>69</td><td>50432</td><td>124440</td><td>458</td><td>15</td><td>1</td><td>4.81</td><td>60</td><td>0.68</td><td>&quot;Master&#x27;s&quot;</td><td>&quot;Full-time&quot;</td><td>&quot;Married&quot;</td><td>&quot;No&quot;</td><td>&quot;No&quot;</td><td>&quot;Other&quot;</td><td>&quot;Yes&quot;</td><td>0</td></tr><tr><td>&quot;C1OZ6DPJ8Y&quot;</td><td>46</td><td>84208</td><td>129188</td><td>451</td><td>26</td><td>3</td><td>21.17</td><td>24</td><td>0.31</td><td>&quot;Master&#x27;s&quot;</td><td>&quot;Unemployed&quot;</td><td>&quot;Divorced&quot;</td><td>&quot;Yes&quot;</td><td>&quot;Yes&quot;</td><td>&quot;Auto&quot;</td><td>&quot;No&quot;</td><td>1</td></tr><tr><td>&quot;V2KKSFM3UN&quot;</td><td>32</td><td>31713</td><td>44799</td><td>743</td><td>0</td><td>3</td><td>7.07</td><td>24</td><td>0.23</td><td>&quot;High School&quot;</td><td>&quot;Full-time&quot;</td><td>&quot;Married&quot;</td><td>&quot;No&quot;</td><td>&quot;No&quot;</td><td>&quot;Business&quot;</td><td>&quot;No&quot;</td><td>0</td></tr><tr><td>&quot;EY08JDHTZP&quot;</td><td>60</td><td>20437</td><td>9139</td><td>633</td><td>8</td><td>4</td><td>6.51</td><td>48</td><td>0.73</td><td>&quot;Bachelor&#x27;s&quot;</td><td>&quot;Unemployed&quot;</td><td>&quot;Divorced&quot;</td><td>&quot;No&quot;</td><td>&quot;Yes&quot;</td><td>&quot;Auto&quot;</td><td>&quot;No&quot;</td><td>0</td></tr></tbody></table></div>"
      ],
      "text/plain": [
       "shape: (5, 18)\n",
       "┌────────────┬─────┬────────┬────────────┬───┬───────────────┬─────────────┬─────────────┬─────────┐\n",
       "│ LoanID     ┆ Age ┆ Income ┆ LoanAmount ┆ … ┆ HasDependents ┆ LoanPurpose ┆ HasCoSigner ┆ Default │\n",
       "│ ---        ┆ --- ┆ ---    ┆ ---        ┆   ┆ ---           ┆ ---         ┆ ---         ┆ ---     │\n",
       "│ str        ┆ i64 ┆ i64    ┆ i64        ┆   ┆ str           ┆ str         ┆ str         ┆ i64     │\n",
       "╞════════════╪═════╪════════╪════════════╪═══╪═══════════════╪═════════════╪═════════════╪═════════╡\n",
       "│ I38PQUQS96 ┆ 56  ┆ 85994  ┆ 50587      ┆ … ┆ Yes           ┆ Other       ┆ Yes         ┆ 0       │\n",
       "│ HPSK72WA7R ┆ 69  ┆ 50432  ┆ 124440     ┆ … ┆ No            ┆ Other       ┆ Yes         ┆ 0       │\n",
       "│ C1OZ6DPJ8Y ┆ 46  ┆ 84208  ┆ 129188     ┆ … ┆ Yes           ┆ Auto        ┆ No          ┆ 1       │\n",
       "│ V2KKSFM3UN ┆ 32  ┆ 31713  ┆ 44799      ┆ … ┆ No            ┆ Business    ┆ No          ┆ 0       │\n",
       "│ EY08JDHTZP ┆ 60  ┆ 20437  ┆ 9139       ┆ … ┆ Yes           ┆ Auto        ┆ No          ┆ 0       │\n",
       "└────────────┴─────┴────────┴────────────┴───┴───────────────┴─────────────┴─────────────┴─────────┘"
      ]
     },
     "execution_count": 125,
     "metadata": {},
     "output_type": "execute_result"
    }
   ],
   "source": [
    "df.head()"
   ]
  },
  {
   "cell_type": "code",
   "execution_count": 126,
   "id": "c7fe414d",
   "metadata": {},
   "outputs": [
    {
     "data": {
      "text/html": [
       "<div><style>\n",
       ".dataframe > thead > tr,\n",
       ".dataframe > tbody > tr {\n",
       "  text-align: right;\n",
       "  white-space: pre-wrap;\n",
       "}\n",
       "</style>\n",
       "<small>shape: (2, 2)</small><table border=\"1\" class=\"dataframe\"><thead><tr><th>Default</th><th>count</th></tr><tr><td>i64</td><td>u32</td></tr></thead><tbody><tr><td>1</td><td>29653</td></tr><tr><td>0</td><td>225694</td></tr></tbody></table></div>"
      ],
      "text/plain": [
       "shape: (2, 2)\n",
       "┌─────────┬────────┐\n",
       "│ Default ┆ count  │\n",
       "│ ---     ┆ ---    │\n",
       "│ i64     ┆ u32    │\n",
       "╞═════════╪════════╡\n",
       "│ 1       ┆ 29653  │\n",
       "│ 0       ┆ 225694 │\n",
       "└─────────┴────────┘"
      ]
     },
     "execution_count": 126,
     "metadata": {},
     "output_type": "execute_result"
    }
   ],
   "source": [
    "df[\"Default\"].value_counts()"
   ]
  },
  {
   "cell_type": "code",
   "execution_count": 127,
   "id": "8f5e5487",
   "metadata": {},
   "outputs": [
    {
     "data": {
      "text/plain": [
       "Schema([('LoanID', String),\n",
       "        ('Age', Int64),\n",
       "        ('Income', Int64),\n",
       "        ('LoanAmount', Int64),\n",
       "        ('CreditScore', Int64),\n",
       "        ('MonthsEmployed', Int64),\n",
       "        ('NumCreditLines', Int64),\n",
       "        ('InterestRate', Float64),\n",
       "        ('LoanTerm', Int64),\n",
       "        ('DTIRatio', Float64),\n",
       "        ('Education', String),\n",
       "        ('EmploymentType', String),\n",
       "        ('MaritalStatus', String),\n",
       "        ('HasMortgage', String),\n",
       "        ('HasDependents', String),\n",
       "        ('LoanPurpose', String),\n",
       "        ('HasCoSigner', String),\n",
       "        ('Default', Int64)])"
      ]
     },
     "execution_count": 127,
     "metadata": {},
     "output_type": "execute_result"
    }
   ],
   "source": [
    "df.schema"
   ]
  },
  {
   "cell_type": "code",
   "execution_count": 128,
   "id": "02d8ed2b",
   "metadata": {},
   "outputs": [
    {
     "data": {
      "text/html": [
       "<div><style>\n",
       ".dataframe > thead > tr,\n",
       ".dataframe > tbody > tr {\n",
       "  text-align: right;\n",
       "  white-space: pre-wrap;\n",
       "}\n",
       "</style>\n",
       "<small>shape: (255_347,)</small><table border=\"1\" class=\"dataframe\"><thead><tr><th>LoanID</th></tr><tr><td>str</td></tr></thead><tbody><tr><td>&quot;I38PQUQS96&quot;</td></tr><tr><td>&quot;HPSK72WA7R&quot;</td></tr><tr><td>&quot;C1OZ6DPJ8Y&quot;</td></tr><tr><td>&quot;V2KKSFM3UN&quot;</td></tr><tr><td>&quot;EY08JDHTZP&quot;</td></tr><tr><td>&hellip;</td></tr><tr><td>&quot;8C6S86ESGC&quot;</td></tr><tr><td>&quot;98R4KDHNND&quot;</td></tr><tr><td>&quot;XQK1UUUNGP&quot;</td></tr><tr><td>&quot;JAO28CPL4H&quot;</td></tr><tr><td>&quot;ZTH91CGL0B&quot;</td></tr></tbody></table></div>"
      ],
      "text/plain": [
       "shape: (255_347,)\n",
       "Series: 'LoanID' [str]\n",
       "[\n",
       "\t\"I38PQUQS96\"\n",
       "\t\"HPSK72WA7R\"\n",
       "\t\"C1OZ6DPJ8Y\"\n",
       "\t\"V2KKSFM3UN\"\n",
       "\t\"EY08JDHTZP\"\n",
       "\t…\n",
       "\t\"8C6S86ESGC\"\n",
       "\t\"98R4KDHNND\"\n",
       "\t\"XQK1UUUNGP\"\n",
       "\t\"JAO28CPL4H\"\n",
       "\t\"ZTH91CGL0B\"\n",
       "]"
      ]
     },
     "execution_count": 128,
     "metadata": {},
     "output_type": "execute_result"
    }
   ],
   "source": [
    "df.drop_in_place(\"LoanID\")"
   ]
  },
  {
   "cell_type": "markdown",
   "id": "af9b62bb",
   "metadata": {},
   "source": [
    "### Numerical features"
   ]
  },
  {
   "cell_type": "markdown",
   "id": "92905fed",
   "metadata": {},
   "source": [
    "###### Normalize DTIRatio as the value range is already between 0 and 1.\n",
    "###### Classify LoanTerm as a categorical feature and one-hot encode it (as it is a discrete variable)\n",
    "###### All other numerical features require standard scaling"
   ]
  },
  {
   "cell_type": "code",
   "execution_count": 129,
   "id": "5322cf8e",
   "metadata": {},
   "outputs": [],
   "source": [
    "num_feats = [\n",
    "    \"Age\",\n",
    "    \"Income\",\n",
    "    \"LoanAmount\",\n",
    "    \"CreditScore\",\n",
    "    \"MonthsEmployed\",\n",
    "    \"NumCreditLines\",\n",
    "    \"InterestRate\",\n",
    "    \"DTIRatio\",\n",
    "]"
   ]
  },
  {
   "cell_type": "markdown",
   "id": "7142055a",
   "metadata": {},
   "source": [
    "#### Standard scaling"
   ]
  },
  {
   "cell_type": "code",
   "execution_count": 130,
   "id": "cf3a3577",
   "metadata": {},
   "outputs": [],
   "source": [
    "scale_feats = [x for x in num_feats if x != \"DTIRatio\"]\n",
    "\n",
    "df_num = df[scale_feats]\n",
    "num_arr = df_num.to_numpy()\n",
    "\n",
    "scaler = StandardScaler()\n",
    "scaled_arr = scaler.fit_transform(num_arr)\n",
    "df_scaled = pl.DataFrame(scaled_arr, scale_feats).cast(pl.Float32)"
   ]
  },
  {
   "cell_type": "markdown",
   "id": "c866364a",
   "metadata": {},
   "source": [
    "#### Normalization"
   ]
  },
  {
   "cell_type": "code",
   "execution_count": 131,
   "id": "a34f9b4b",
   "metadata": {},
   "outputs": [],
   "source": [
    "norm_feats = [x for x in num_feats if x == \"DTIRatio\"]\n",
    "\n",
    "df_dtir = df[norm_feats]\n",
    "dtir_arr = df_dtir.to_numpy()\n",
    "\n",
    "normalizer = MinMaxScaler(feature_range=(0, 1))\n",
    "normed_arr = scaler.fit_transform(dtir_arr)\n",
    "df_normed = pl.DataFrame(normed_arr, norm_feats).cast(pl.Float32)"
   ]
  },
  {
   "cell_type": "markdown",
   "id": "ee69d82c",
   "metadata": {},
   "source": [
    "### Categorical features"
   ]
  },
  {
   "cell_type": "code",
   "execution_count": 132,
   "id": "8100f452",
   "metadata": {},
   "outputs": [],
   "source": [
    "cat_feats = [\"Education\", \"EmploymentType\", \"MaritalStatus\", \"LoanPurpose\"]\n",
    "\n",
    "encoder = OneHotEncoder(handle_unknown=\"ignore\", sparse_output=False, dtype=int)\n",
    "encoder.set_output(transform=\"polars\")\n",
    "df_cat_enc = encoder.fit_transform(df[cat_feats]).cast(pl.Int8)"
   ]
  },
  {
   "cell_type": "markdown",
   "id": "4ce3ff0c",
   "metadata": {},
   "source": [
    "### Binary features"
   ]
  },
  {
   "cell_type": "code",
   "execution_count": 133,
   "id": "3adefa1a",
   "metadata": {},
   "outputs": [],
   "source": [
    "bin_feats = [\"HasMortgage\", \"HasDependents\", \"HasCoSigner\"]\n",
    "bin_map = {\"Yes\": 1, \"No\": 0}\n",
    "\n",
    "df_bin_enc = df[bin_feats]\n",
    "\n",
    "for feat in bin_feats:\n",
    "    df_bin_enc = df_bin_enc.with_columns(\n",
    "        pl.col(feat).replace(bin_map).alias(feat).cast(pl.Int8)\n",
    "    )"
   ]
  },
  {
   "cell_type": "code",
   "execution_count": 134,
   "id": "3f7b1c4d",
   "metadata": {},
   "outputs": [],
   "source": [
    "df_X = pl.concat([df_scaled, df_normed, df_cat_enc, df_bin_enc], how=\"horizontal\")\n",
    "df_y = df[\"Default\"].cast(pl.Int8)"
   ]
  },
  {
   "cell_type": "code",
   "execution_count": 135,
   "id": "0b464d5f",
   "metadata": {},
   "outputs": [],
   "source": [
    "tran_dir = \"../data/transformed\"\n",
    "\n",
    "if not os.path.exists(tran_dir):\n",
    "    os.mkdir(tran_dir)\n",
    "\n",
    "df_eng = pl.concat([df_X, df_y.to_frame()], how=\"horizontal\")\n",
    "df_eng.write_csv(f\"{tran_dir}/feats_engineered.csv\")"
   ]
  },
  {
   "cell_type": "markdown",
   "id": "9af57a99",
   "metadata": {},
   "source": [
    "### Training model"
   ]
  },
  {
   "cell_type": "markdown",
   "id": "b608fe88",
   "metadata": {},
   "source": [
    "#### Train/test split"
   ]
  },
  {
   "cell_type": "code",
   "execution_count": 139,
   "id": "1b56cc2a",
   "metadata": {},
   "outputs": [],
   "source": [
    "X = df_X.to_numpy()\n",
    "y = df_y.to_numpy()"
   ]
  },
  {
   "cell_type": "code",
   "execution_count": 140,
   "id": "c295b723",
   "metadata": {},
   "outputs": [],
   "source": [
    "X_train, X_test, y_train, y_test = train_test_split(\n",
    "    X, y, train_size=0.8, random_state=42\n",
    ")"
   ]
  },
  {
   "cell_type": "markdown",
   "id": "41205951",
   "metadata": {},
   "source": [
    "#### Handle imbalances"
   ]
  },
  {
   "cell_type": "markdown",
   "id": "fa70a6f8",
   "metadata": {},
   "source": [
    "###### SMOTE should only be applied to the training set. NOT the testing set."
   ]
  },
  {
   "cell_type": "code",
   "execution_count": 141,
   "id": "22b710c7",
   "metadata": {},
   "outputs": [],
   "source": [
    "smote = SMOTE(random_state=42)\n",
    "X_train_bal, y_train_bal = smote.fit_resample(X_train, y_train)"
   ]
  },
  {
   "cell_type": "markdown",
   "id": "9bd0fa8b",
   "metadata": {},
   "source": [
    "### Train model"
   ]
  },
  {
   "cell_type": "code",
   "execution_count": null,
   "id": "7761bf13",
   "metadata": {},
   "outputs": [],
   "source": []
  },
  {
   "cell_type": "code",
   "execution_count": null,
   "id": "c0156ef5",
   "metadata": {},
   "outputs": [],
   "source": []
  }
 ],
 "metadata": {
  "kernelspec": {
   "display_name": ".venv",
   "language": "python",
   "name": "python3"
  },
  "language_info": {
   "codemirror_mode": {
    "name": "ipython",
    "version": 3
   },
   "file_extension": ".py",
   "mimetype": "text/x-python",
   "name": "python",
   "nbconvert_exporter": "python",
   "pygments_lexer": "ipython3",
   "version": "3.13.2"
  }
 },
 "nbformat": 4,
 "nbformat_minor": 5
}
