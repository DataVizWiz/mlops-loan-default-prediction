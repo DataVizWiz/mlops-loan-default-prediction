{
 "cells": [
  {
   "cell_type": "markdown",
   "id": "3d968d93",
   "metadata": {},
   "source": [
    "## Random Forest Feature Engineering"
   ]
  },
  {
   "cell_type": "code",
   "execution_count": 48,
   "id": "9f9daae9",
   "metadata": {},
   "outputs": [],
   "source": [
    "import pandas as pd\n",
    "import numpy as np\n",
    "from scipy.stats import skew"
   ]
  },
  {
   "cell_type": "code",
   "execution_count": 49,
   "id": "29e20646",
   "metadata": {},
   "outputs": [],
   "source": [
    "df_src = pd.read_csv(\"loans.csv\")"
   ]
  },
  {
   "cell_type": "code",
   "execution_count": 50,
   "id": "c497266f",
   "metadata": {},
   "outputs": [],
   "source": [
    "cols_map = {}\n",
    "\n",
    "for col in df_src.columns:\n",
    "    cols_map[col] = col.lower().replace(\"/\", \"_\")\n",
    "\n",
    "df_src.rename(columns=cols_map, inplace=True)"
   ]
  },
  {
   "cell_type": "code",
   "execution_count": 51,
   "id": "c7d77736",
   "metadata": {},
   "outputs": [
    {
     "name": "stdout",
     "output_type": "stream",
     "text": [
      "risk_flag\n",
      "0    0.877\n",
      "1    0.123\n",
      "Name: proportion, dtype: float64\n",
      "----------------------\n",
      "----------------------\n",
      "<class 'pandas.core.frame.DataFrame'>\n",
      "RangeIndex: 252000 entries, 0 to 251999\n",
      "Data columns (total 13 columns):\n",
      " #   Column             Non-Null Count   Dtype \n",
      "---  ------             --------------   ----- \n",
      " 0   id                 252000 non-null  int64 \n",
      " 1   income             252000 non-null  int64 \n",
      " 2   age                252000 non-null  int64 \n",
      " 3   experience         252000 non-null  int64 \n",
      " 4   married_single     252000 non-null  object\n",
      " 5   house_ownership    252000 non-null  object\n",
      " 6   car_ownership      252000 non-null  object\n",
      " 7   profession         252000 non-null  object\n",
      " 8   city               252000 non-null  object\n",
      " 9   state              252000 non-null  object\n",
      " 10  current_job_yrs    252000 non-null  int64 \n",
      " 11  current_house_yrs  252000 non-null  int64 \n",
      " 12  risk_flag          252000 non-null  int64 \n",
      "dtypes: int64(7), object(6)\n",
      "memory usage: 25.0+ MB\n",
      "None\n"
     ]
    }
   ],
   "source": [
    "print(df_src['risk_flag'].value_counts(normalize=True))\n",
    "print(\"----------------------\")\n",
    "print(\"----------------------\")\n",
    "print(df_src.info())"
   ]
  },
  {
   "cell_type": "code",
   "execution_count": 52,
   "id": "28dfde10",
   "metadata": {},
   "outputs": [
    {
     "data": {
      "text/plain": [
       "id                            int64\n",
       "income                         int8\n",
       "age                            int8\n",
       "experience                     int8\n",
       "married_single       string[python]\n",
       "house_ownership      string[python]\n",
       "car_ownership        string[python]\n",
       "profession           string[python]\n",
       "city                 string[python]\n",
       "state                string[python]\n",
       "current_job_yrs                int8\n",
       "current_house_yrs              int8\n",
       "risk_flag                      int8\n",
       "dtype: object"
      ]
     },
     "execution_count": 52,
     "metadata": {},
     "output_type": "execute_result"
    }
   ],
   "source": [
    "type_map = {\n",
    "    \"income\": \"int8\", \n",
    "    \"age\": \"int8\", \n",
    "    \"experience\": \"int8\",\n",
    "    \"married_single\": \"string\",\n",
    "    \"house_ownership\": \"string\",\n",
    "    \"car_ownership\": \"string\",\n",
    "    \"profession\": \"string\",\n",
    "    \"city\": \"string\",\n",
    "    \"state\": \"string\",\n",
    "    \"current_job_yrs\": \"int8\",\n",
    "    \"current_house_yrs\": \"int8\",\n",
    "    \"risk_flag\": \"int8\"\n",
    "}\n",
    "\n",
    "for col, dtype in type_map.items():\n",
    "    df_src[col] = df_src[col].astype(dtype)\n",
    "\n",
    "df_src.dtypes"
   ]
  },
  {
   "cell_type": "code",
   "execution_count": 53,
   "id": "1ef6cb2c",
   "metadata": {},
   "outputs": [],
   "source": [
    "df_src.drop(labels=[\"id\"], inplace=True, axis=1)"
   ]
  },
  {
   "cell_type": "code",
   "execution_count": 54,
   "id": "1cad1c78",
   "metadata": {},
   "outputs": [
    {
     "name": "stdout",
     "output_type": "stream",
     "text": [
      "Duplicates have been removed\n"
     ]
    }
   ],
   "source": [
    "# Remove duplicate rows\n",
    "df_src.drop_duplicates(inplace=True)\n",
    "\n",
    "if df_src.duplicated().any() == np.False_:\n",
    "    # log duplicates to an output table\n",
    "    print(\"Duplicates have been removed\")"
   ]
  },
  {
   "cell_type": "code",
   "execution_count": 55,
   "id": "9c81947a",
   "metadata": {},
   "outputs": [
    {
     "name": "stdout",
     "output_type": "stream",
     "text": [
      "-0.015994971955553557\n"
     ]
    }
   ],
   "source": [
    "# Log-transform skewed features\n",
    "# This should be logged to an output\n",
    "skew_val = skew(df_src[\"income\"])\n",
    "print(skew_val)"
   ]
  },
  {
   "cell_type": "code",
   "execution_count": 56,
   "id": "8fa4cfb0",
   "metadata": {},
   "outputs": [
    {
     "name": "stdout",
     "output_type": "stream",
     "text": [
      "age skew: 0.01\n",
      "experience skew: 0.01\n",
      "current_job_yrs skew: 0.26\n",
      "current_house_yrs skew: -0.01\n"
     ]
    }
   ],
   "source": [
    "# Assess skew values\n",
    "for col in ['age', 'experience', 'current_job_yrs', 'current_house_yrs']:\n",
    "    print(f\"{col} skew: {skew(df_src[col].dropna()):.2f}\")"
   ]
  },
  {
   "cell_type": "code",
   "execution_count": 57,
   "id": "bd669f6f",
   "metadata": {},
   "outputs": [],
   "source": [
    "df_eng = df_src"
   ]
  },
  {
   "cell_type": "code",
   "execution_count": 58,
   "id": "53d5360f",
   "metadata": {},
   "outputs": [],
   "source": [
    "# Feature engineering\n",
    "df_eng[\"job_stability\"] = df_eng[\"current_job_yrs\"] / df_eng[\"experience\"]\n",
    "df_eng[\"moved_recently\"] = (df_eng[\"current_house_yrs\"] < 1).astype(int)\n",
    "df_eng['age_bucket'] = pd.cut(df_eng['age'], bins=[18, 25, 35, 45, 60, 100], labels=['18-24', '25-34', '35-44', '45-59', '60+'])\n",
    "\n",
    "# When using Random Forest scaling is not required\n",
    "# When using Linear models scaling is recommended\n",
    "# This should be handled when users are given the opportunity to select between models in the frontend"
   ]
  },
  {
   "cell_type": "code",
   "execution_count": 59,
   "id": "6c360799",
   "metadata": {},
   "outputs": [],
   "source": [
    "# RF handles integers well, for features where there are two options, use label encoding.\n",
    "# For features that use more than 2, use one-hot\n",
    "df_enc = df_eng"
   ]
  },
  {
   "cell_type": "code",
   "execution_count": 60,
   "id": "f94b394a",
   "metadata": {},
   "outputs": [],
   "source": [
    "# Label Encoding\n",
    "# We can automate this - check if field is categorical and there are two options\n",
    "for col, enc in {\"married_single\": {'single': 0, 'married': 1}, \"car_ownership\": {'no': 0, 'yes': 1}}.items():\n",
    "    df_enc[col] = df_enc[col].map(enc).astype(\"int8\")"
   ]
  },
  {
   "cell_type": "code",
   "execution_count": 61,
   "id": "5ea0b21d",
   "metadata": {},
   "outputs": [
    {
     "name": "stdout",
     "output_type": "stream",
     "text": [
      "city: 317 unique categories\n",
      "state: 29 unique categories\n",
      "house_ownership: 3 unique categories\n",
      "profession: 51 unique categories\n",
      "age_bucket: 5 unique categories\n"
     ]
    }
   ],
   "source": [
    "# Check cardinality\n",
    "# < 10 use one-hot\n",
    "# 10-50 use one-hot or frequency (can be a feature on the front end)\n",
    "# > 50 use frequency or target encoding (can be a feature on the front end)\n",
    "for col in [\"city\", \"state\", \"house_ownership\", \"profession\", \"age_bucket\"]:\n",
    "    unique_vals = df_eng[col].nunique()\n",
    "    print(f\"{col}: {unique_vals} unique categories\")"
   ]
  },
  {
   "cell_type": "code",
   "execution_count": 62,
   "id": "069a5305",
   "metadata": {},
   "outputs": [],
   "source": [
    "# One-hot Encoding for features with low cardinality\n",
    "for col in [\"age_bucket\", \"house_ownership\"]:\n",
    "    df_enc = pd.get_dummies(df_enc, columns=[col], drop_first=True, dtype=int)"
   ]
  },
  {
   "cell_type": "code",
   "execution_count": 63,
   "id": "5930a9e7",
   "metadata": {},
   "outputs": [],
   "source": [
    "# Frequency encoding for high cardinality\n",
    "for col in [\"city\", \"state\", \"profession\"]:\n",
    "    freq = df_enc[col].value_counts(normalize=True)\n",
    "    df_enc[f'{col}_freq'] = df_enc[col].map(freq)\n",
    "    df_enc.drop(columns=[col], inplace=True)"
   ]
  },
  {
   "cell_type": "code",
   "execution_count": 64,
   "id": "14b625f2",
   "metadata": {},
   "outputs": [],
   "source": [
    "cols_map = {}\n",
    "\n",
    "for col in df_enc.columns:\n",
    "    cols_map[col] = col.lower()\n",
    "\n",
    "df_enc.rename(columns=cols_map, inplace=True)"
   ]
  },
  {
   "cell_type": "code",
   "execution_count": 65,
   "id": "f7e00550",
   "metadata": {},
   "outputs": [
    {
     "data": {
      "text/html": [
       "<div>\n",
       "<style scoped>\n",
       "    .dataframe tbody tr th:only-of-type {\n",
       "        vertical-align: middle;\n",
       "    }\n",
       "\n",
       "    .dataframe tbody tr th {\n",
       "        vertical-align: top;\n",
       "    }\n",
       "\n",
       "    .dataframe thead th {\n",
       "        text-align: right;\n",
       "    }\n",
       "</style>\n",
       "<table border=\"1\" class=\"dataframe\">\n",
       "  <thead>\n",
       "    <tr style=\"text-align: right;\">\n",
       "      <th></th>\n",
       "      <th>income</th>\n",
       "      <th>age</th>\n",
       "      <th>experience</th>\n",
       "      <th>married_single</th>\n",
       "      <th>car_ownership</th>\n",
       "      <th>current_job_yrs</th>\n",
       "      <th>current_house_yrs</th>\n",
       "      <th>risk_flag</th>\n",
       "      <th>job_stability</th>\n",
       "      <th>moved_recently</th>\n",
       "      <th>age_bucket_25-34</th>\n",
       "      <th>age_bucket_35-44</th>\n",
       "      <th>age_bucket_45-59</th>\n",
       "      <th>age_bucket_60+</th>\n",
       "      <th>house_ownership_owned</th>\n",
       "      <th>house_ownership_rented</th>\n",
       "      <th>city_freq</th>\n",
       "      <th>state_freq</th>\n",
       "      <th>profession_freq</th>\n",
       "    </tr>\n",
       "  </thead>\n",
       "  <tbody>\n",
       "    <tr>\n",
       "      <th>0</th>\n",
       "      <td>26</td>\n",
       "      <td>23</td>\n",
       "      <td>3</td>\n",
       "      <td>0</td>\n",
       "      <td>0</td>\n",
       "      <td>3</td>\n",
       "      <td>13</td>\n",
       "      <td>0</td>\n",
       "      <td>1.000000</td>\n",
       "      <td>0</td>\n",
       "      <td>0</td>\n",
       "      <td>0</td>\n",
       "      <td>0</td>\n",
       "      <td>0</td>\n",
       "      <td>0</td>\n",
       "      <td>1</td>\n",
       "      <td>0.003195</td>\n",
       "      <td>0.056911</td>\n",
       "      <td>0.019981</td>\n",
       "    </tr>\n",
       "    <tr>\n",
       "      <th>1</th>\n",
       "      <td>-12</td>\n",
       "      <td>40</td>\n",
       "      <td>10</td>\n",
       "      <td>0</td>\n",
       "      <td>0</td>\n",
       "      <td>9</td>\n",
       "      <td>13</td>\n",
       "      <td>0</td>\n",
       "      <td>0.900000</td>\n",
       "      <td>0</td>\n",
       "      <td>0</td>\n",
       "      <td>1</td>\n",
       "      <td>0</td>\n",
       "      <td>0</td>\n",
       "      <td>0</td>\n",
       "      <td>1</td>\n",
       "      <td>0.002917</td>\n",
       "      <td>0.100486</td>\n",
       "      <td>0.02019</td>\n",
       "    </tr>\n",
       "    <tr>\n",
       "      <th>2</th>\n",
       "      <td>7</td>\n",
       "      <td>66</td>\n",
       "      <td>4</td>\n",
       "      <td>1</td>\n",
       "      <td>0</td>\n",
       "      <td>4</td>\n",
       "      <td>10</td>\n",
       "      <td>0</td>\n",
       "      <td>1.000000</td>\n",
       "      <td>0</td>\n",
       "      <td>0</td>\n",
       "      <td>0</td>\n",
       "      <td>0</td>\n",
       "      <td>1</td>\n",
       "      <td>0</td>\n",
       "      <td>1</td>\n",
       "      <td>0.002894</td>\n",
       "      <td>0.022968</td>\n",
       "      <td>0.01975</td>\n",
       "    </tr>\n",
       "    <tr>\n",
       "      <th>3</th>\n",
       "      <td>67</td>\n",
       "      <td>41</td>\n",
       "      <td>2</td>\n",
       "      <td>0</td>\n",
       "      <td>1</td>\n",
       "      <td>2</td>\n",
       "      <td>12</td>\n",
       "      <td>1</td>\n",
       "      <td>1.000000</td>\n",
       "      <td>0</td>\n",
       "      <td>0</td>\n",
       "      <td>1</td>\n",
       "      <td>0</td>\n",
       "      <td>0</td>\n",
       "      <td>0</td>\n",
       "      <td>1</td>\n",
       "      <td>0.002987</td>\n",
       "      <td>0.019403</td>\n",
       "      <td>0.02019</td>\n",
       "    </tr>\n",
       "    <tr>\n",
       "      <th>4</th>\n",
       "      <td>-89</td>\n",
       "      <td>47</td>\n",
       "      <td>11</td>\n",
       "      <td>0</td>\n",
       "      <td>0</td>\n",
       "      <td>3</td>\n",
       "      <td>14</td>\n",
       "      <td>1</td>\n",
       "      <td>0.272727</td>\n",
       "      <td>0</td>\n",
       "      <td>0</td>\n",
       "      <td>0</td>\n",
       "      <td>1</td>\n",
       "      <td>0</td>\n",
       "      <td>0</td>\n",
       "      <td>1</td>\n",
       "      <td>0.003427</td>\n",
       "      <td>0.064969</td>\n",
       "      <td>0.019935</td>\n",
       "    </tr>\n",
       "  </tbody>\n",
       "</table>\n",
       "</div>"
      ],
      "text/plain": [
       "   income  age  experience  married_single  car_ownership  current_job_yrs  \\\n",
       "0      26   23           3               0              0                3   \n",
       "1     -12   40          10               0              0                9   \n",
       "2       7   66           4               1              0                4   \n",
       "3      67   41           2               0              1                2   \n",
       "4     -89   47          11               0              0                3   \n",
       "\n",
       "   current_house_yrs  risk_flag  job_stability  moved_recently  \\\n",
       "0                 13          0       1.000000               0   \n",
       "1                 13          0       0.900000               0   \n",
       "2                 10          0       1.000000               0   \n",
       "3                 12          1       1.000000               0   \n",
       "4                 14          1       0.272727               0   \n",
       "\n",
       "   age_bucket_25-34  age_bucket_35-44  age_bucket_45-59  age_bucket_60+  \\\n",
       "0                 0                 0                 0               0   \n",
       "1                 0                 1                 0               0   \n",
       "2                 0                 0                 0               1   \n",
       "3                 0                 1                 0               0   \n",
       "4                 0                 0                 1               0   \n",
       "\n",
       "   house_ownership_owned  house_ownership_rented  city_freq  state_freq  \\\n",
       "0                      0                       1   0.003195    0.056911   \n",
       "1                      0                       1   0.002917    0.100486   \n",
       "2                      0                       1   0.002894    0.022968   \n",
       "3                      0                       1   0.002987    0.019403   \n",
       "4                      0                       1   0.003427    0.064969   \n",
       "\n",
       "   profession_freq  \n",
       "0         0.019981  \n",
       "1          0.02019  \n",
       "2          0.01975  \n",
       "3          0.02019  \n",
       "4         0.019935  "
      ]
     },
     "execution_count": 65,
     "metadata": {},
     "output_type": "execute_result"
    }
   ],
   "source": [
    "df_enc.head()"
   ]
  },
  {
   "cell_type": "code",
   "execution_count": null,
   "id": "9bd888cb",
   "metadata": {},
   "outputs": [],
   "source": []
  }
 ],
 "metadata": {
  "kernelspec": {
   "display_name": ".venv",
   "language": "python",
   "name": "python3"
  },
  "language_info": {
   "codemirror_mode": {
    "name": "ipython",
    "version": 3
   },
   "file_extension": ".py",
   "mimetype": "text/x-python",
   "name": "python",
   "nbconvert_exporter": "python",
   "pygments_lexer": "ipython3",
   "version": "3.13.2"
  }
 },
 "nbformat": 4,
 "nbformat_minor": 5
}
